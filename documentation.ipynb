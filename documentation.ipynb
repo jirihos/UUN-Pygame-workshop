{
 "cells": [
  {
   "cell_type": "markdown",
   "id": "d7db7f21",
   "metadata": {},
   "source": [
    "# Documentation"
   ]
  },
  {
   "cell_type": "markdown",
   "id": "35454396",
   "metadata": {},
   "source": [
    "## Scenes"
   ]
  },
  {
   "cell_type": "markdown",
   "id": "399213d4",
   "metadata": {},
   "source": [
    "class MainMenu – the intro and main menu screen  \n",
    "class Game – the actual game"
   ]
  }
 ],
 "metadata": {
  "language_info": {
   "name": "python"
  }
 },
 "nbformat": 4,
 "nbformat_minor": 5
}
